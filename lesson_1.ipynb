{
 "cells": [
  {
   "cell_type": "markdown",
   "id": "0a8f5076",
   "metadata": {},
   "source": [
    "# PyTorch Lesson 1\n",
    "\n",
    "Today, I will be using the `torch` library in Python to teach myself the aspects of deep learning and the many scenarios that deep learning can be applied to. This file will be dedicated to tensor operation in `torch`. Tensors are arrays or matrices that can be added, subtracted and multiplied either by element wise multiplicaton or matrix multiplication.\n",
    "\n",
    "Here are some examples of what you can do with tensors. "
   ]
  },
  {
   "cell_type": "code",
   "execution_count": 2,
   "id": "0425a45b",
   "metadata": {},
   "outputs": [],
   "source": [
    "# importing torch\n",
    "import torch"
   ]
  },
  {
   "cell_type": "code",
   "execution_count": 3,
   "id": "d44c921a",
   "metadata": {},
   "outputs": [
    {
     "name": "stdout",
     "output_type": "stream",
     "text": [
      "tensor([[1, 2, 3],\n",
      "        [4, 5, 6]])\n"
     ]
    }
   ],
   "source": [
    "my_list = [[1,2,3], [4,5,6]]\n",
    "\n",
    "# converting to a tensor\n",
    "my_tensor = torch.tensor(my_list)\n",
    "print(my_tensor)"
   ]
  },
  {
   "cell_type": "code",
   "execution_count": 4,
   "id": "75ec763a",
   "metadata": {},
   "outputs": [
    {
     "name": "stdout",
     "output_type": "stream",
     "text": [
      "torch.Size([2, 3])\n",
      "torch.int64\n",
      "cpu\n"
     ]
    }
   ],
   "source": [
    "# Shape and Data Type\n",
    "print(my_tensor.shape)  # prints the shape of the tensor\n",
    "print(my_tensor.dtype)  # prints the data type of the tensor\n",
    "print(my_tensor.device)  # prints the device of the tensor (CPU or GPU)"
   ]
  },
  {
   "cell_type": "code",
   "execution_count": 7,
   "id": "dbdde607",
   "metadata": {},
   "outputs": [
    {
     "name": "stdout",
     "output_type": "stream",
     "text": [
      "tensor([[ 7,  8,  9],\n",
      "        [10, 11, 12]])\n",
      "tensor([[ 8, 10, 12],\n",
      "        [14, 16, 18]])\n",
      "tensor([[-6, -6, -6],\n",
      "        [-6, -6, -6]])\n",
      "tensor([[ 7, 16, 27],\n",
      "        [40, 55, 72]])\n",
      "tensor([[0.1429, 0.2500, 0.3333],\n",
      "        [0.4000, 0.4545, 0.5000]])\n",
      "tensor([[ 50,  68],\n",
      "        [122, 167]])\n"
     ]
    }
   ],
   "source": [
    "# second tensor\n",
    "my_tensor_2 = torch.tensor([[7,8,9], [10,11,12]])\n",
    "print(my_tensor_2)\n",
    "\n",
    "# Adding the tensors\n",
    "added_tensor = my_tensor + my_tensor_2\n",
    "print(added_tensor)\n",
    "\n",
    "# Subtracting the tensors\n",
    "subtracted_tensor = my_tensor - my_tensor_2\n",
    "print(subtracted_tensor)\n",
    "\n",
    "# Multiplying the tensors\n",
    "multiplied_tensor = my_tensor * my_tensor_2\n",
    "print(multiplied_tensor)\n",
    "\n",
    "# Dividing the tensors\n",
    "divided_tensor = my_tensor / my_tensor_2\n",
    "print(divided_tensor)\n",
    "\n",
    "# Matrix multiplication (using transpose for proper dimensions)\n",
    "matrix_multiplied_tensor = my_tensor @ my_tensor_2.t()\n",
    "print(matrix_multiplied_tensor)"
   ]
  }
 ],
 "metadata": {
  "kernelspec": {
   "display_name": "Python 3",
   "language": "python",
   "name": "python3"
  },
  "language_info": {
   "codemirror_mode": {
    "name": "ipython",
    "version": 3
   },
   "file_extension": ".py",
   "mimetype": "text/x-python",
   "name": "python",
   "nbconvert_exporter": "python",
   "pygments_lexer": "ipython3",
   "version": "3.12.2"
  }
 },
 "nbformat": 4,
 "nbformat_minor": 5
}
